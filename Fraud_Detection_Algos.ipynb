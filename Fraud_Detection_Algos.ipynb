{
  "nbformat": 4,
  "nbformat_minor": 0,
  "metadata": {
    "colab": {
      "name": "Fraud_Detection_Algos.ipynb",
      "provenance": [],
      "collapsed_sections": [],
      "authorship_tag": "ABX9TyPQWihYUj7zUovukMiAgRPx",
      "include_colab_link": true
    },
    "kernelspec": {
      "name": "python3",
      "display_name": "Python 3"
    },
    "accelerator": "GPU"
  },
  "cells": [
    {
      "cell_type": "markdown",
      "metadata": {
        "id": "view-in-github",
        "colab_type": "text"
      },
      "source": [
        "<a href=\"https://colab.research.google.com/github/MWFK/Fraud-Detection/blob/main/Fraud_Detection_Algos.ipynb\" target=\"_parent\"><img src=\"https://colab.research.google.com/assets/colab-badge.svg\" alt=\"Open In Colab\"/></a>"
      ]
    },
    {
      "cell_type": "markdown",
      "metadata": {
        "id": "6UYASvxCiDIG"
      },
      "source": [
        "# Credits"
      ]
    },
    {
      "cell_type": "code",
      "metadata": {
        "id": "49aBewiWbpiA"
      },
      "source": [
        "# Author: Mouafek Ayadi (but not the original code creator!)\n",
        "# Contact: mouafek.ayadi@esprit.tn \n",
        "#          https://www.linkedin.com/in/mouafek-ayadi/\n",
        "# Date: 2019/2020\n",
        "\n",
        "# The source Code have been developed based on deeplearning.ai courses materials, tensorflow.org documentation and other open source resources. \n",
        "# that have been carefully documented in a separate document that you should find it alongside this notebook.\n",
        "# The original code is under the Apache License, Version 2.0 (the \"License\");"
      ],
      "execution_count": null,
      "outputs": []
    },
    {
      "cell_type": "markdown",
      "metadata": {
        "id": "VPefGm6EvKLR"
      },
      "source": [
        "# Notes\n",
        "\n",
        "We Have omitted the Data preparation process\n",
        "\n",
        "We have omitted the function that returns the detected fraudulent transactions\n",
        "\n",
        "Link to the Data Sample\n",
        "\n",
        "https://github.com/MWFK/Fraud-Detection/blob/main/creditcard%20sample.xlsx\n"
      ]
    },
    {
      "cell_type": "markdown",
      "metadata": {
        "id": "79o-MqVGsIVx"
      },
      "source": [
        "# Ongoing\n",
        "1- Add the fitting time to the benchmark list\n",
        "\n",
        "2- Add Tensorboard"
      ]
    },
    {
      "cell_type": "markdown",
      "metadata": {
        "id": "Oxlk0UATiNbf"
      },
      "source": [
        "# Librairies"
      ]
    },
    {
      "cell_type": "code",
      "metadata": {
        "id": "E6OhkamXhk14",
        "colab": {
          "base_uri": "https://localhost:8080/"
        },
        "outputId": "e910739c-38fe-4571-c1c1-dd9871fde585"
      },
      "source": [
        "import tensorflow as tf\n",
        "print(tf.__version__)"
      ],
      "execution_count": null,
      "outputs": [
        {
          "output_type": "stream",
          "name": "stdout",
          "text": [
            "2.6.0\n"
          ]
        }
      ]
    },
    {
      "cell_type": "markdown",
      "metadata": {
        "id": "IBpCInSLmiyU"
      },
      "source": [
        "# Trailing window"
      ]
    },
    {
      "cell_type": "code",
      "metadata": {
        "id": "j1WfXi7PmJTh"
      },
      "source": [
        "##################################################################################### Explanation of TF windowed dataset\n",
        "# We're creating TF Windowed dataset, which have more methods than a regular dataset\n",
        "# Represents a potentially large set of elements => tf.data.Dataset(variant_tensor)\n",
        "\n",
        "def windowed_dataset(series, window_size, batch_size, shuffle_buffer): # [0] This returns a tf.data.Dataset object when a series is passed in along with the other arguments like window_size, batch_size, shuffle_buffer_size\n",
        "                                                                       #     In this object each element is a batch of 32 windows and each window contains 30 values.\n",
        "    \n",
        "    series = tf.expand_dims(series, axis=-1)                           # [1] explanation above  \n",
        "    ds = tf.data.Dataset.from_tensor_slices(series)                    # [2] explanation above\n",
        "    ds = ds.window(window_size + 1, shift=1, drop_remainder=True)      #     Maps map_func across this dataset and flattens the result.\n",
        "    ds = ds.flat_map(lambda w: w.batch(window_size + 1))               # [3] explanation above\n",
        "    ds = ds.shuffle(shuffle_buffer)\n",
        "    ds = ds.map(lambda w: (w[:-1], w[1:]))                             # [4] explanation above => splitting data into input and target\n",
        "\n",
        "    return ds.batch(batch_size).prefetch(1)                            # [5] explanation above"
      ],
      "execution_count": null,
      "outputs": []
    },
    {
      "cell_type": "markdown",
      "metadata": {
        "id": "_J1bJymNnA7X"
      },
      "source": [
        "# Forecast function"
      ]
    },
    {
      "cell_type": "code",
      "metadata": {
        "id": "ZsiwlBTLnE8D"
      },
      "source": [
        "# We take the DNN model, and we try to apply it to our windowed series\n",
        "# So after training it will help us forecast batches of our windowed series \n",
        "# we'll have 32 windowd with size of 30 in each batch, where each windowd will have one new value each time.\n",
        "def model_forecast(model, series, window_size):\n",
        "    ds = tf.data.Dataset.from_tensor_slices(series)\n",
        "    ds = ds.window(window_size, shift=1, drop_remainder=True)\n",
        "    ds = ds.flat_map(lambda w: w.batch(window_size))\n",
        "    ds = ds.batch(32).prefetch(1)\n",
        "    # No map or shuffle, this was done in the windowed_dataset()\n",
        "    forecast = model.predict(ds)\n",
        "    return forecast"
      ],
      "execution_count": null,
      "outputs": []
    },
    {
      "cell_type": "markdown",
      "metadata": {
        "id": "3VMYRJr6pSvU"
      },
      "source": [
        "# RNN Model"
      ]
    },
    {
      "cell_type": "code",
      "metadata": {
        "id": "yGQu00ZzpgJ1"
      },
      "source": [
        "tf.keras.backend.clear_session()\n",
        "tf.random.set_seed(51)\n",
        "np.random.seed(51)\n",
        "\n",
        "train_set = windowed_dataset(x_train, window_size, batch_size=128, shuffle_buffer=shuffle_buffer_size)\n",
        "\n",
        "# Simple RNN\n",
        "model = tf.keras.models.Sequential([\n",
        "  tf.keras.layers.Lambda(lambda x: tf.expand_dims(x, axis=-1),input_shape=[None]), # since our dataset is windowed, then we'll construct one tensor, through pending each windowd to the end of the tensor\n",
        "  tf.keras.layers.SimpleRNN(40, return_sequences=True),\n",
        "  tf.keras.layers.SimpleRNN(40),\n",
        "  tf.keras.layers.Dense(1),\n",
        "  tf.keras.layers.Lambda(lambda x: x * 400.0)\n",
        "])\n",
        "\n",
        "optimizer = tf.keras.optimizers.SGD(lr=1e-5, momentum=0.9)\n",
        "model.compile(loss=tf.keras.losses.Huber(),\n",
        "              optimizer=optimizer,\n",
        "              metrics=[\"mae\"])\n",
        "history_rnn = model.fit(train_set, epochs=150) "
      ],
      "execution_count": null,
      "outputs": []
    },
    {
      "cell_type": "markdown",
      "metadata": {
        "id": "X9wLrsM9iDLh"
      },
      "source": [
        "# RNN MAE and Loss"
      ]
    },
    {
      "cell_type": "code",
      "metadata": {
        "id": "4HozqbEOivNg",
        "colab": {
          "base_uri": "https://localhost:8080/",
          "height": 440
        },
        "outputId": "432b5367-cec0-425b-cbab-e843db51c357"
      },
      "source": [
        "import matplotlib.image  as mpimg\n",
        "import matplotlib.pyplot as plt\n",
        "\n",
        "#-----------------------------------------------------------\n",
        "# Retrieve a list of list results on training and test data\n",
        "# sets for each training epoch\n",
        "#-----------------------------------------------------------\n",
        "mae=history_rnn.history['mae']\n",
        "loss=history_rnn.history['loss']\n",
        "\n",
        "epochs=range(len(loss)) # Get number of epochs\n",
        "\n",
        "\n",
        "epochs_zoom = epochs[100:150]\n",
        "mae_zoom = mae[100:150]\n",
        "loss_zoom = loss[100:150]\n",
        "\n",
        "#------------------------------------------------\n",
        "# Plot Zoomed MAE and Loss\n",
        "#------------------------------------------------\n",
        "\n",
        "plt.figure(figsize=(10, 6))\n",
        "\n",
        "plt.plot(epochs_zoom, mae_zoom, 'r')\n",
        "plt.plot(epochs_zoom, loss_zoom, 'b')\n",
        "plt.title('RNN MAE and Loss')\n",
        "plt.xlabel(\"Epochs\")\n",
        "plt.ylabel(\"Accuracy\")\n",
        "plt.legend([\"MAE\", \"Loss\"])\n",
        "\n",
        "plt.figure()"
      ],
      "execution_count": null,
      "outputs": [
        {
          "output_type": "execute_result",
          "data": {
            "text/plain": [
              "<Figure size 432x288 with 0 Axes>"
            ]
          },
          "metadata": {},
          "execution_count": 15
        },
        {
          "output_type": "display_data",
          "data": {
            "image/png": "[encoded data removed]",
            "text/plain": [
              "<Figure size 720x432 with 1 Axes>"
            ]
          },
          "metadata": {
            "needs_background": "light"
          }
        },
        {
          "output_type": "display_data",
          "data": {
            "text/plain": [
              "<Figure size 432x288 with 0 Axes>"
            ]
          },
          "metadata": {}
        }
      ]
    },
    {
      "cell_type": "code",
      "metadata": {
        "colab": {
          "base_uri": "https://localhost:8080/",
          "height": 81
        },
        "id": "h3orqWWpTj56",
        "outputId": "48109fbb-258a-4543-c9e9-468f40b396a4"
      },
      "source": [
        "# Add Model Details to the benchmark list\n",
        "columns = ['Model', 'Layers', 'Units_per_Layer','Optimizer', 'MAE Metric', 'Huber Loss']\n",
        "Benchmark  = Benchmark.append(pd.Series(['RNN', '2*SimpleRNN', '40', 'SGD(lr=1e-5, momentum=0.9)', mae[-1], loss[-1]], index = columns), ignore_index=True)\n",
        "Benchmark"
      ],
      "execution_count": null,
      "outputs": [
        {
          "output_type": "execute_result",
          "data": {
            "text/html": [
              "<div>\n",
              "<style scoped>\n",
              "    .dataframe tbody tr th:only-of-type {\n",
              "        vertical-align: middle;\n",
              "    }\n",
              "\n",
              "    .dataframe tbody tr th {\n",
              "        vertical-align: top;\n",
              "    }\n",
              "\n",
              "    .dataframe thead th {\n",
              "        text-align: right;\n",
              "    }\n",
              "</style>\n",
              "<table border=\"1\" class=\"dataframe\">\n",
              "  <thead>\n",
              "    <tr style=\"text-align: right;\">\n",
              "      <th></th>\n",
              "      <th>Model</th>\n",
              "      <th>Layers</th>\n",
              "      <th>Units_per_Layer</th>\n",
              "      <th>Optimizer</th>\n",
              "      <th>MAE Metric</th>\n",
              "      <th>Huber Loss</th>\n",
              "    </tr>\n",
              "  </thead>\n",
              "  <tbody>\n",
              "    <tr>\n",
              "      <th>0</th>\n",
              "      <td>RNN</td>\n",
              "      <td>2*SimpleRNN</td>\n",
              "      <td>40</td>\n",
              "      <td>SGD(lr=1e-5, momentum=0.9)</td>\n",
              "      <td>25.264061</td>\n",
              "      <td>24.769438</td>\n",
              "    </tr>\n",
              "  </tbody>\n",
              "</table>\n",
              "</div>"
            ],
            "text/plain": [
              "  Model       Layers  ... MAE Metric Huber Loss\n",
              "0   RNN  2*SimpleRNN  ...  25.264061  24.769438\n",
              "\n",
              "[1 rows x 6 columns]"
            ]
          },
          "metadata": {},
          "execution_count": 16
        }
      ]
    },
    {
      "cell_type": "markdown",
      "metadata": {
        "id": "RmdX0UncnV_C"
      },
      "source": [
        "# LSTM Model"
      ]
    },
    {
      "cell_type": "code",
      "metadata": {
        "id": "cK8ap3K6ndPR"
      },
      "source": [
        "tf.keras.backend.clear_session()\n",
        "tf.random.set_seed(51)\n",
        "np.random.seed(51)\n",
        "train_set = windowed_dataset(x_train, window_size=60, batch_size=100, shuffle_buffer=shuffle_buffer_size)\n",
        "\n",
        "model = tf.keras.models.Sequential([\n",
        "\n",
        "  tf.keras.layers.LSTM(60, return_sequences=True),\n",
        "  tf.keras.layers.LSTM(60, return_sequences=True),\n",
        "  tf.keras.layers.Dense(30, activation=\"relu\"),\n",
        "  tf.keras.layers.Dense(10, activation=\"relu\"),\n",
        "  tf.keras.layers.Dense(1),\n",
        "  #tf.keras.layers.Lambda(lambda x: x * 400)\n",
        "])\n",
        "\n",
        "# We have inferred from the previouss cell that the preferred Learning rate is 1e-5\n",
        "optimizer = tf.keras.optimizers.SGD(lr=1e-5, momentum=0.9)\n",
        "model.compile(loss=tf.keras.losses.Huber(),\n",
        "              optimizer=optimizer,\n",
        "              metrics=[\"mae\"])\n",
        "history_lstm = model.fit(train_set,epochs=150) "
      ],
      "execution_count": null,
      "outputs": []
    },
    {
      "cell_type": "markdown",
      "metadata": {
        "id": "iIOhCJO8kSfs"
      },
      "source": [
        "# LSTM MAE and Loss"
      ]
    },
    {
      "cell_type": "code",
      "metadata": {
        "id": "QVKyDhTikeIF",
        "colab": {
          "base_uri": "https://localhost:8080/",
          "height": 440
        },
        "outputId": "0dfd7bc6-6e98-45df-fe38-27801fe24eef"
      },
      "source": [
        "import matplotlib.image  as mpimg\n",
        "import matplotlib.pyplot as plt\n",
        "\n",
        "#-----------------------------------------------------------\n",
        "# Retrieve a list of list results on training and test data\n",
        "# sets for each training epoch\n",
        "#-----------------------------------------------------------\n",
        "mae=history_lstm.history['mae']\n",
        "loss=history_lstm.history['loss']\n",
        "\n",
        "epochs=range(len(loss)) # Get number of epochs\n",
        "\n",
        "epochs_zoom = epochs[100:150]\n",
        "mae_zoom = mae[100:150]\n",
        "loss_zoom = loss[100:150]\n",
        "\n",
        "#------------------------------------------------\n",
        "# Plot Zoomed MAE and Loss\n",
        "#------------------------------------------------\n",
        "\n",
        "plt.figure(figsize=(10, 6))\n",
        "\n",
        "plt.plot(epochs_zoom, mae_zoom, 'r')\n",
        "plt.plot(epochs_zoom, loss_zoom, 'b')\n",
        "plt.title('LSTM MAE and Loss')\n",
        "plt.xlabel(\"Epochs\")\n",
        "plt.ylabel(\"Accuracy\")\n",
        "plt.legend([\"MAE\", \"Loss\"])\n",
        "\n",
        "plt.figure()"
      ],
      "execution_count": null,
      "outputs": [
        {
          "output_type": "execute_result",
          "data": {
            "text/plain": [
              "<Figure size 432x288 with 0 Axes>"
            ]
          },
          "metadata": {},
          "execution_count": 18
        },
        {
          "output_type": "display_data",
          "data": {
            "image/png": "[encoded data removed]",
            "text/plain": [
              "<Figure size 720x432 with 1 Axes>"
            ]
          },
          "metadata": {
            "needs_background": "light"
          }
        },
        {
          "output_type": "display_data",
          "data": {
            "text/plain": [
              "<Figure size 432x288 with 0 Axes>"
            ]
          },
          "metadata": {}
        }
      ]
    },
    {
      "cell_type": "code",
      "metadata": {
        "colab": {
          "base_uri": "https://localhost:8080/",
          "height": 112
        },
        "id": "b0FQGM7pW6ZJ",
        "outputId": "e1a0bd78-9b02-4a8d-baf1-13c1b61c4d51"
      },
      "source": [
        "# Add Model Details to the benchmark list\n",
        "Benchmark  = Benchmark.append(pd.Series(['LSTM', '2*LSTM, 2*Dense', '2*40, 30 10', 'SGD(lr=1e-5, momentum=0.9)', mae[-1], loss[-1]], index = columns), ignore_index=True)\n",
        "Benchmark"
      ],
      "execution_count": null,
      "outputs": [
        {
          "output_type": "execute_result",
          "data": {
            "text/html": [
              "<div>\n",
              "<style scoped>\n",
              "    .dataframe tbody tr th:only-of-type {\n",
              "        vertical-align: middle;\n",
              "    }\n",
              "\n",
              "    .dataframe tbody tr th {\n",
              "        vertical-align: top;\n",
              "    }\n",
              "\n",
              "    .dataframe thead th {\n",
              "        text-align: right;\n",
              "    }\n",
              "</style>\n",
              "<table border=\"1\" class=\"dataframe\">\n",
              "  <thead>\n",
              "    <tr style=\"text-align: right;\">\n",
              "      <th></th>\n",
              "      <th>Model</th>\n",
              "      <th>Layers</th>\n",
              "      <th>Units_per_Layer</th>\n",
              "      <th>Optimizer</th>\n",
              "      <th>MAE Metric</th>\n",
              "      <th>Huber Loss</th>\n",
              "    </tr>\n",
              "  </thead>\n",
              "  <tbody>\n",
              "    <tr>\n",
              "      <th>0</th>\n",
              "      <td>RNN</td>\n",
              "      <td>2*SimpleRNN</td>\n",
              "      <td>40</td>\n",
              "      <td>SGD(lr=1e-5, momentum=0.9)</td>\n",
              "      <td>25.264061</td>\n",
              "      <td>24.769438</td>\n",
              "    </tr>\n",
              "    <tr>\n",
              "      <th>1</th>\n",
              "      <td>LSTM</td>\n",
              "      <td>2*LSTM, 2*Dense</td>\n",
              "      <td>2*40, 30 10</td>\n",
              "      <td>SGD(lr=1e-5, momentum=0.9)</td>\n",
              "      <td>71.929543</td>\n",
              "      <td>71.433273</td>\n",
              "    </tr>\n",
              "  </tbody>\n",
              "</table>\n",
              "</div>"
            ],
            "text/plain": [
              "  Model           Layers  ... MAE Metric Huber Loss\n",
              "0   RNN      2*SimpleRNN  ...  25.264061  24.769438\n",
              "1  LSTM  2*LSTM, 2*Dense  ...  71.929543  71.433273\n",
              "\n",
              "[2 rows x 6 columns]"
            ]
          },
          "metadata": {},
          "execution_count": 19
        }
      ]
    },
    {
      "cell_type": "markdown",
      "metadata": {
        "id": "zAsD9sfBssyW"
      },
      "source": [
        "# BLSTM Model"
      ]
    },
    {
      "cell_type": "code",
      "metadata": {
        "id": "W0I5shKMtX0A"
      },
      "source": [
        "# https://www.tensorflow.org/api_docs/python/tf/keras/backend/clear_session\n",
        "# A common use-case for clear_session is releasing memory when building models and layers in a loop.\n",
        "# Clears any internal variables, which means models will not impact later versions of themselves\n",
        "tf.keras.backend.clear_session()\n",
        "\n",
        "# This sets the graph-level seed.\n",
        "# https://www.tensorflow.org/versions/r2.0/api_docs/python/tf/random/set_seed\n",
        "tf.random.set_seed(51)\n",
        "\n",
        "# I's for operation level\n",
        "np.random.seed(51)\n",
        "\n",
        "# https://www.tensorflow.org/api_docs/python/tf/keras/backend/clear_session\n",
        "# A common use-case for clear_session is releasing memory when building models and layers in a loop.\n",
        "tf.keras.backend.clear_session()\n",
        "dataset = windowed_dataset(x_train, window_size, batch_size, shuffle_buffer_size)\n",
        "\n",
        "# Windowed BI-LSTM\n",
        "model = tf.keras.models.Sequential([\n",
        "  #tf.keras.layers.Lambda(lambda x: tf.expand_dims(x),# Given a tensor input, this operation inserts a dimension of size 1 at the dimension index axis of input's shape. # https://www.tensorflow.org/api_docs/python/tf/expand_dims\n",
        "                                                     #input_shape=[None])),     # This means that the model can take sequences of any length\n",
        "                                    \n",
        "  tf.keras.layers.Lambda(lambda x: tf.expand_dims(x, axis=-1),input_shape=[None]),\n",
        "  \n",
        "  # The windowed_dataset() return two dimensional batches, with the first being the batch size and the second being the number of timesteps \n",
        "  # But the RNN expects three dimensions, so the lambda layer, help fix the difference in dimensions, by adding expannding the array by one dimension\n",
        "\n",
        "  tf.keras.layers.Bidirectional(tf.keras.layers.LSTM(32, return_sequences=True)),\n",
        "\n",
        "  # input a sequence and don't output it, except for the last one (sequence to vector RNN), which is the default behavior of Keras TF, \n",
        "  # otherwise we set the return_sequence=False and we we'll have (sequence to sequence)\n",
        "\n",
        "  # The output of the layer is three dimensionals [batch_size * number_units(nulber of units in a cell) * overall_steps(number of cells)]\n",
        "\n",
        "  tf.keras.layers.Bidirectional(tf.keras.layers.LSTM(32)),\n",
        "  tf.keras.layers.Dense(1),\n",
        "  tf.keras.layers.Lambda(lambda x: x * 100.0) #400.0\n",
        "\n",
        "  # For example the activation function of the RNN use tanH function which have values between -1 and 1, \n",
        "  # so we multipky the output by 100, so we can have the regular values of our input time series.\n",
        "])\n",
        "\n",
        "optimizer = tf.keras.optimizers.SGD(lr=1e-5, momentum=0.9)\n",
        "model.compile(loss=tf.keras.losses.Huber(), # Less sensitive to outliers\n",
        "              optimizer=optimizer,\n",
        "              metrics=[\"mae\"])\n",
        "history_blstm = model.fit(dataset, epochs=150)"
      ],
      "execution_count": null,
      "outputs": []
    },
    {
      "cell_type": "markdown",
      "metadata": {
        "id": "W57tv0pKkgdK"
      },
      "source": [
        "# BLSTM MAE & Loss"
      ]
    },
    {
      "cell_type": "code",
      "metadata": {
        "id": "bfJLRku0qza6",
        "colab": {
          "base_uri": "https://localhost:8080/",
          "height": 440
        },
        "outputId": "c59c127f-d23e-4637-dc96-ce5b9ba3e8d4"
      },
      "source": [
        "import matplotlib.image  as mpimg\n",
        "import matplotlib.pyplot as plt\n",
        "\n",
        "#-----------------------------------------------------------\n",
        "# Retrieve a list of list results on training and test data\n",
        "# sets for each training epoch\n",
        "#-----------------------------------------------------------\n",
        "mae=history_blstm.history['mae']\n",
        "loss=history_blstm.history['loss']\n",
        "\n",
        "epochs=range(len(loss)) # Get number of epochs\n",
        "\n",
        "#------------------------------------------------\n",
        "# Plot Zoomed MAE and Loss\n",
        "#------------------------------------------------\n",
        "\n",
        "\n",
        "epochs_zoom = epochs[100:150]\n",
        "mae_zoom = mae[100:150]\n",
        "loss_zoom = loss[100:150]\n",
        "\n",
        "\n",
        "plt.figure(figsize=(10, 6))\n",
        "\n",
        "plt.plot(epochs_zoom, mae_zoom, 'r')\n",
        "plt.plot(epochs_zoom, loss_zoom, 'b')\n",
        "plt.title('BLSTM MAE and Loss')\n",
        "plt.xlabel(\"Epochs\")\n",
        "plt.ylabel(\"Accuracy\")\n",
        "plt.legend([\"MAE\", \"Loss\"])\n",
        "\n",
        "plt.figure()"
      ],
      "execution_count": null,
      "outputs": [
        {
          "output_type": "execute_result",
          "data": {
            "text/plain": [
              "<Figure size 432x288 with 0 Axes>"
            ]
          },
          "metadata": {},
          "execution_count": 21
        },
        {
          "output_type": "display_data",
          "data": {
            "image/png": "[encoded data removed]",
            "text/plain": [
              "<Figure size 720x432 with 1 Axes>"
            ]
          },
          "metadata": {
            "needs_background": "light"
          }
        },
        {
          "output_type": "display_data",
          "data": {
            "text/plain": [
              "<Figure size 432x288 with 0 Axes>"
            ]
          },
          "metadata": {}
        }
      ]
    },
    {
      "cell_type": "code",
      "metadata": {
        "colab": {
          "base_uri": "https://localhost:8080/",
          "height": 143
        },
        "id": "KKIUkXsnk2yQ",
        "outputId": "1f4e9f8a-7f61-44e0-f36f-c8a7b771d433"
      },
      "source": [
        "# Add Model Details to the benchmark list\n",
        "Benchmark  = Benchmark.append(pd.Series(['BLSTM', '2*BLSTM', '32', 'SGD(lr=1e-5, momentum=0.9)', mae[-1], loss[-1]], index = columns), ignore_index=True)\n",
        "Benchmark"
      ],
      "execution_count": null,
      "outputs": [
        {
          "output_type": "execute_result",
          "data": {
            "text/html": [
              "<div>\n",
              "<style scoped>\n",
              "    .dataframe tbody tr th:only-of-type {\n",
              "        vertical-align: middle;\n",
              "    }\n",
              "\n",
              "    .dataframe tbody tr th {\n",
              "        vertical-align: top;\n",
              "    }\n",
              "\n",
              "    .dataframe thead th {\n",
              "        text-align: right;\n",
              "    }\n",
              "</style>\n",
              "<table border=\"1\" class=\"dataframe\">\n",
              "  <thead>\n",
              "    <tr style=\"text-align: right;\">\n",
              "      <th></th>\n",
              "      <th>Model</th>\n",
              "      <th>Layers</th>\n",
              "      <th>Units_per_Layer</th>\n",
              "      <th>Optimizer</th>\n",
              "      <th>MAE Metric</th>\n",
              "      <th>Huber Loss</th>\n",
              "    </tr>\n",
              "  </thead>\n",
              "  <tbody>\n",
              "    <tr>\n",
              "      <th>0</th>\n",
              "      <td>RNN</td>\n",
              "      <td>2*SimpleRNN</td>\n",
              "      <td>40</td>\n",
              "      <td>SGD(lr=1e-5, momentum=0.9)</td>\n",
              "      <td>25.264061</td>\n",
              "      <td>24.769438</td>\n",
              "    </tr>\n",
              "    <tr>\n",
              "      <th>1</th>\n",
              "      <td>LSTM</td>\n",
              "      <td>2*LSTM, 2*Dense</td>\n",
              "      <td>2*40, 30 10</td>\n",
              "      <td>SGD(lr=1e-5, momentum=0.9)</td>\n",
              "      <td>71.929543</td>\n",
              "      <td>71.433273</td>\n",
              "    </tr>\n",
              "    <tr>\n",
              "      <th>2</th>\n",
              "      <td>BLSTM</td>\n",
              "      <td>2*BLSTM</td>\n",
              "      <td>32</td>\n",
              "      <td>SGD(lr=1e-5, momentum=0.9)</td>\n",
              "      <td>24.660589</td>\n",
              "      <td>24.167021</td>\n",
              "    </tr>\n",
              "  </tbody>\n",
              "</table>\n",
              "</div>"
            ],
            "text/plain": [
              "   Model           Layers  ... MAE Metric Huber Loss\n",
              "0    RNN      2*SimpleRNN  ...  25.264061  24.769438\n",
              "1   LSTM  2*LSTM, 2*Dense  ...  71.929543  71.433273\n",
              "2  BLSTM          2*BLSTM  ...  24.660589  24.167021\n",
              "\n",
              "[3 rows x 6 columns]"
            ]
          },
          "metadata": {},
          "execution_count": 22
        }
      ]
    },
    {
      "cell_type": "markdown",
      "metadata": {
        "id": "pdL13O-xvarO"
      },
      "source": [
        "# CNN LSTM Model"
      ]
    },
    {
      "cell_type": "code",
      "metadata": {
        "id": "GpT6TB5Uveay"
      },
      "source": [
        "tf.keras.backend.clear_session()\n",
        "tf.random.set_seed(51)\n",
        "np.random.seed(51)\n",
        "window_size = 64\n",
        "batch_size = 256\n",
        "train_set = windowed_dataset(x_train, window_size, batch_size, shuffle_buffer_size) # We take a window of x_train\n",
        "print(\"train_set= \",train_set)\n",
        "print(\"\\n x_train.shape= \",x_train.shape)\n",
        "\n",
        "model = tf.keras.models.Sequential([\n",
        "  tf.keras.layers.Conv1D(filters=32, kernel_size=5,\n",
        "                      strides=1, padding=\"causal\",\n",
        "                      activation=\"relu\",\n",
        "                      input_shape=[None, 1]), # We have specified the input shape here so we need to change the windowed_dataset() => it works but foes not give the same result\n",
        "  tf.keras.layers.LSTM(64, return_sequences=True),\n",
        "  tf.keras.layers.LSTM(64, return_sequences=True),\n",
        "  tf.keras.layers.Dense(30, activation=\"relu\"),\n",
        "  tf.keras.layers.Dense(10, activation=\"relu\"),\n",
        "  tf.keras.layers.Dense(1),\n",
        "  tf.keras.layers.Lambda(lambda x: x * 400)\n",
        "])\n",
        "\n",
        "optimizer = tf.keras.optimizers.SGD(lr=1e-5, momentum=0.9)\n",
        "model.compile(loss=tf.keras.losses.Huber(),\n",
        "              optimizer=optimizer,\n",
        "              metrics=[\"mae\"])\n",
        "history_cnn_lstm = model.fit(train_set, epochs=150)\n"
      ],
      "execution_count": null,
      "outputs": []
    },
    {
      "cell_type": "markdown",
      "metadata": {
        "id": "IPhaA_Zikr48"
      },
      "source": [
        "# CNN LSTM MAE & Loss"
      ]
    },
    {
      "cell_type": "code",
      "metadata": {
        "id": "WYVZDuEVkw9j",
        "colab": {
          "base_uri": "https://localhost:8080/",
          "height": 440
        },
        "outputId": "1b27632f-d80f-46a6-dd14-9f308ff0963c"
      },
      "source": [
        "import matplotlib.image  as mpimg\n",
        "import matplotlib.pyplot as plt\n",
        "\n",
        "#-----------------------------------------------------------\n",
        "# Retrieve a list of list results on training and test data\n",
        "# sets for each training epoch\n",
        "#-----------------------------------------------------------\n",
        "mae=history_cnn_lstm.history['mae']\n",
        "loss=history_cnn_lstm.history['loss']\n",
        "\n",
        "epochs=range(len(loss)) # Get number of epochs\n",
        "\n",
        "#------------------------------------------------\n",
        "# Plot Zoomed MAE and Loss\n",
        "#------------------------------------------------\n",
        "\n",
        "\n",
        "epochs_zoom = epochs[100:150]\n",
        "mae_zoom = mae[100:150]\n",
        "loss_zoom = loss[100:150]\n",
        "\n",
        "\n",
        "plt.figure(figsize=(10, 6))\n",
        "\n",
        "plt.plot(epochs_zoom, mae_zoom, 'r')\n",
        "plt.plot(epochs_zoom, loss_zoom, 'b')\n",
        "plt.title('CNN LSTM MAE and Loss')\n",
        "plt.xlabel(\"Epochs\")\n",
        "plt.ylabel(\"Accuracy\")\n",
        "plt.legend([\"MAE\", \"Loss\"])\n",
        "\n",
        "plt.figure()"
      ],
      "execution_count": null,
      "outputs": [
        {
          "output_type": "execute_result",
          "data": {
            "text/plain": [
              "<Figure size 432x288 with 0 Axes>"
            ]
          },
          "metadata": {},
          "execution_count": 24
        },
        {
          "output_type": "display_data",
          "data": {
            "image/png": "[encoded data removed]",
            "text/plain": [
              "<Figure size 720x432 with 1 Axes>"
            ]
          },
          "metadata": {
            "needs_background": "light"
          }
        },
        {
          "output_type": "display_data",
          "data": {
            "text/plain": [
              "<Figure size 432x288 with 0 Axes>"
            ]
          },
          "metadata": {}
        }
      ]
    },
    {
      "cell_type": "code",
      "metadata": {
        "colab": {
          "base_uri": "https://localhost:8080/",
          "height": 175
        },
        "id": "5tsjJ_7plKZ6",
        "outputId": "90533779-e3d1-4d71-82a4-9222953dd052"
      },
      "source": [
        "# Add Model Details to the benchmark list\n",
        "Benchmark  = Benchmark.append(pd.Series(['CNN LSTM', 'Conv1D, 2*LSTM, 2*Dense', '32, 2*64, 30 10', 'SGD(lr=1e-5, momentum=0.9)', mae[-1], loss[-1]], index = columns), ignore_index=True)\n",
        "Benchmark"
      ],
      "execution_count": null,
      "outputs": [
        {
          "output_type": "execute_result",
          "data": {
            "text/html": [
              "<div>\n",
              "<style scoped>\n",
              "    .dataframe tbody tr th:only-of-type {\n",
              "        vertical-align: middle;\n",
              "    }\n",
              "\n",
              "    .dataframe tbody tr th {\n",
              "        vertical-align: top;\n",
              "    }\n",
              "\n",
              "    .dataframe thead th {\n",
              "        text-align: right;\n",
              "    }\n",
              "</style>\n",
              "<table border=\"1\" class=\"dataframe\">\n",
              "  <thead>\n",
              "    <tr style=\"text-align: right;\">\n",
              "      <th></th>\n",
              "      <th>Model</th>\n",
              "      <th>Layers</th>\n",
              "      <th>Units_per_Layer</th>\n",
              "      <th>Optimizer</th>\n",
              "      <th>MAE Metric</th>\n",
              "      <th>Huber Loss</th>\n",
              "    </tr>\n",
              "  </thead>\n",
              "  <tbody>\n",
              "    <tr>\n",
              "      <th>0</th>\n",
              "      <td>RNN</td>\n",
              "      <td>2*SimpleRNN</td>\n",
              "      <td>40</td>\n",
              "      <td>SGD(lr=1e-5, momentum=0.9)</td>\n",
              "      <td>25.264061</td>\n",
              "      <td>24.769438</td>\n",
              "    </tr>\n",
              "    <tr>\n",
              "      <th>1</th>\n",
              "      <td>LSTM</td>\n",
              "      <td>2*LSTM, 2*Dense</td>\n",
              "      <td>2*40, 30 10</td>\n",
              "      <td>SGD(lr=1e-5, momentum=0.9)</td>\n",
              "      <td>71.929543</td>\n",
              "      <td>71.433273</td>\n",
              "    </tr>\n",
              "    <tr>\n",
              "      <th>2</th>\n",
              "      <td>BLSTM</td>\n",
              "      <td>2*BLSTM</td>\n",
              "      <td>32</td>\n",
              "      <td>SGD(lr=1e-5, momentum=0.9)</td>\n",
              "      <td>24.660589</td>\n",
              "      <td>24.167021</td>\n",
              "    </tr>\n",
              "    <tr>\n",
              "      <th>3</th>\n",
              "      <td>CNN LSTM</td>\n",
              "      <td>Conv1D, 2*LSTM, 2*Dense</td>\n",
              "      <td>32, 2*64, 30 10</td>\n",
              "      <td>SGD(lr=1e-5, momentum=0.9)</td>\n",
              "      <td>17.378454</td>\n",
              "      <td>16.887781</td>\n",
              "    </tr>\n",
              "  </tbody>\n",
              "</table>\n",
              "</div>"
            ],
            "text/plain": [
              "      Model                   Layers  ... MAE Metric Huber Loss\n",
              "0       RNN              2*SimpleRNN  ...  25.264061  24.769438\n",
              "1      LSTM          2*LSTM, 2*Dense  ...  71.929543  71.433273\n",
              "2     BLSTM                  2*BLSTM  ...  24.660589  24.167021\n",
              "3  CNN LSTM  Conv1D, 2*LSTM, 2*Dense  ...  17.378454  16.887781\n",
              "\n",
              "[4 rows x 6 columns]"
            ]
          },
          "metadata": {},
          "execution_count": 25
        }
      ]
    },
    {
      "cell_type": "markdown",
      "metadata": {
        "id": "xLiCb51isv8W"
      },
      "source": [
        "# CNN BLSTM Model"
      ]
    },
    {
      "cell_type": "code",
      "metadata": {
        "id": "PGvbbqhjuba-"
      },
      "source": [
        "tf.keras.backend.clear_session()\n",
        "tf.random.set_seed(51)\n",
        "np.random.seed(51)\n",
        "\n",
        "tf.keras.backend.clear_session()\n",
        "dataset = windowed_dataset(x_train, window_size, batch_size, shuffle_buffer_size)\n",
        "\n",
        "# Windowed CNN BLSTM\n",
        "model = tf.keras.models.Sequential([\n",
        "  tf.keras.layers.Lambda(lambda x: tf.expand_dims(x, axis=-1),\n",
        "                      input_shape=[None]),    \n",
        "  \n",
        "  tf.keras.layers.Conv1D(filters=32, kernel_size=5,\n",
        "                      strides=1, padding=\"causal\",\n",
        "                      activation=\"relu\",\n",
        "                      input_shape=[None, 1]),\n",
        "\n",
        "  tf.keras.layers.Bidirectional(tf.keras.layers.LSTM(32, return_sequences=True)),\n",
        "  tf.keras.layers.Bidirectional(tf.keras.layers.LSTM(32, return_sequences=True)),\n",
        "\n",
        "  tf.keras.layers.LSTM(64, return_sequences=True),\n",
        "  tf.keras.layers.LSTM(64, return_sequences=True),\n",
        "  \n",
        "  tf.keras.layers.Dense(30, activation=\"relu\"),\n",
        "  tf.keras.layers.Dense(10, activation=\"relu\"),\n",
        "  tf.keras.layers.Dense(1),\n",
        "  tf.keras.layers.Lambda(lambda x: x * 400.0)\n",
        "])\n",
        "\n",
        "optimizer = tf.keras.optimizers.SGD(lr=1e-5, momentum=0.9)\n",
        "model.compile(loss=tf.keras.losses.Huber(), \n",
        "              optimizer=optimizer,\n",
        "              metrics=[\"mae\"])\n",
        "history_cnn_blstm = model.fit(dataset, epochs=150)"
      ],
      "execution_count": null,
      "outputs": []
    },
    {
      "cell_type": "markdown",
      "metadata": {
        "id": "OLxjom2MkyZH"
      },
      "source": [
        "# CNN BLSTM MAE and Loss"
      ]
    },
    {
      "cell_type": "code",
      "metadata": {
        "id": "y2HxERqfk5Tx",
        "colab": {
          "base_uri": "https://localhost:8080/",
          "height": 440
        },
        "outputId": "291db894-1d4b-4569-d1ca-eb83425a45d4"
      },
      "source": [
        "import matplotlib.image  as mpimg\n",
        "import matplotlib.pyplot as plt\n",
        "\n",
        "#-----------------------------------------------------------\n",
        "# Retrieve a list of list results on training and test data\n",
        "# sets for each training epoch\n",
        "#-----------------------------------------------------------\n",
        "mae=history_cnn_blstm.history['mae']\n",
        "loss=history_cnn_blstm.history['loss']\n",
        "\n",
        "epochs=range(len(loss)) # Get number of epochs\n",
        "\n",
        "#------------------------------------------------\n",
        "# Plot Zoomed MAE and Loss\n",
        "#------------------------------------------------\n",
        "\n",
        "\n",
        "epochs_zoom = epochs[100:150]\n",
        "mae_zoom = mae[100:150]\n",
        "loss_zoom = loss[100:150]\n",
        "\n",
        "\n",
        "plt.figure(figsize=(10, 6))\n",
        "\n",
        "plt.plot(epochs_zoom, mae_zoom, 'r')\n",
        "plt.plot(epochs_zoom, loss_zoom, 'b')\n",
        "plt.title('CNN BLSTM MAE and Loss')\n",
        "plt.xlabel(\"Epochs\")\n",
        "plt.ylabel(\"Accuracy\")\n",
        "plt.legend([\"MAE\", \"Loss\"])\n",
        "\n",
        "plt.figure()"
      ],
      "execution_count": null,
      "outputs": [
        {
          "output_type": "execute_result",
          "data": {
            "text/plain": [
              "<Figure size 432x288 with 0 Axes>"
            ]
          },
          "metadata": {},
          "execution_count": 27
        },
        {
          "output_type": "display_data",
          "data": {
            "image/png": "[encoded data removed]",
            "text/plain": [
              "<Figure size 720x432 with 1 Axes>"
            ]
          },
          "metadata": {
            "needs_background": "light"
          }
        },
        {
          "output_type": "display_data",
          "data": {
            "text/plain": [
              "<Figure size 432x288 with 0 Axes>"
            ]
          },
          "metadata": {}
        }
      ]
    },
    {
      "cell_type": "code",
      "metadata": {
        "id": "kt6Zy8eXlqE6"
      },
      "source": [
        "# Add Model Details to the benchmark list\n",
        "Benchmark  = Benchmark.append(pd.Series(['CNN BLSTM', 'Conv1D, 2*BLSTM, 2*LSTM, 2*Dense', '32, 2*32, 2*64, 30 10', 'SGD(lr=1e-5, momentum=0.9)', mae[-1], loss[-1]], index = columns), ignore_index=True)"
      ],
      "execution_count": null,
      "outputs": []
    },
    {
      "cell_type": "markdown",
      "metadata": {
        "id": "zmoCYRLeod75"
      },
      "source": [
        "# CNN GRU Model"
      ]
    },
    {
      "cell_type": "code",
      "metadata": {
        "id": "EfyIh4swojvm"
      },
      "source": [
        "tf.keras.backend.clear_session()\n",
        "tf.random.set_seed(51)\n",
        "np.random.seed(51)\n",
        "window_size = 64\n",
        "batch_size = 256\n",
        "train_set = windowed_dataset(x_train, window_size, batch_size, shuffle_buffer_size) # We take a window of x_train\n",
        "print(\"train_set= \",train_set)\n",
        "print(\"\\n x_train.shape= \",x_train.shape)\n",
        "\n",
        "model = tf.keras.models.Sequential([\n",
        "  tf.keras.layers.Conv1D(filters=32, kernel_size=5,\n",
        "                      strides=1, padding=\"causal\",\n",
        "                      activation=\"relu\",\n",
        "                      input_shape=[None, 1]), # We have specified the input shape here so we need to change the windowed_dataset() => it works but foes not give the same result\n",
        "  tf.keras.layers.GRU(64, return_sequences=True),\n",
        "  tf.keras.layers.GRU(64, return_sequences=True),\n",
        "  tf.keras.layers.Dense(30, activation=\"relu\"),\n",
        "  tf.keras.layers.Dense(10, activation=\"relu\"),\n",
        "  tf.keras.layers.Dense(1),\n",
        "  tf.keras.layers.Lambda(lambda x: x * 400)\n",
        "])\n",
        "\n",
        "optimizer = tf.keras.optimizers.SGD(lr=1e-5, momentum=0.9)\n",
        "model.compile(loss=tf.keras.losses.Huber(),\n",
        "              optimizer=optimizer,\n",
        "              metrics=[\"mae\"])\n",
        "history_cnn_gru = model.fit(train_set, epochs=150)\n"
      ],
      "execution_count": null,
      "outputs": []
    },
    {
      "cell_type": "markdown",
      "metadata": {
        "id": "433tQmbCo6ou"
      },
      "source": [
        "# CNN GRU MAE & Loss"
      ]
    },
    {
      "cell_type": "code",
      "metadata": {
        "colab": {
          "base_uri": "https://localhost:8080/",
          "height": 441
        },
        "id": "MbKMAvRXo9xr",
        "outputId": "410fdaf5-e922-4f46-a230-65901fb3a290"
      },
      "source": [
        "import matplotlib.image  as mpimg\n",
        "import matplotlib.pyplot as plt\n",
        "\n",
        "#-----------------------------------------------------------\n",
        "# Retrieve a list of list results on training and test data\n",
        "# sets for each training epoch\n",
        "#-----------------------------------------------------------\n",
        "mae  = history_cnn_gru.history['mae']\n",
        "loss = history_cnn_gru.history['loss']\n",
        "\n",
        "epochs=range(len(loss)) # Get number of epochs\n",
        "\n",
        "#------------------------------------------------\n",
        "# Plot Zoomed MAE and Loss\n",
        "#------------------------------------------------\n",
        "\n",
        "\n",
        "epochs_zoom = epochs[100:150]\n",
        "mae_zoom = mae[100:150]\n",
        "loss_zoom = loss[100:150]\n",
        "\n",
        "\n",
        "plt.figure(figsize=(10, 6))\n",
        "\n",
        "plt.plot(epochs_zoom, mae_zoom, 'r')\n",
        "plt.plot(epochs_zoom, loss_zoom, 'b')\n",
        "plt.title('CNN GRU MAE and Loss')\n",
        "plt.xlabel(\"Epochs\")\n",
        "plt.ylabel(\"Accuracy\")\n",
        "plt.legend([\"MAE\", \"Loss\"])\n",
        "\n",
        "plt.figure()"
      ],
      "execution_count": null,
      "outputs": [
        {
          "output_type": "execute_result",
          "data": {
            "text/plain": [
              "<Figure size 432x288 with 0 Axes>"
            ]
          },
          "metadata": {},
          "execution_count": 10
        },
        {
          "output_type": "display_data",
          "data": {
            "image/png": "[encoded data removed]",
            "text/plain": [
              "<Figure size 720x432 with 1 Axes>"
            ]
          },
          "metadata": {
            "needs_background": "light"
          }
        },
        {
          "output_type": "display_data",
          "data": {
            "text/plain": [
              "<Figure size 432x288 with 0 Axes>"
            ]
          },
          "metadata": {}
        }
      ]
    },
    {
      "cell_type": "code",
      "metadata": {
        "colab": {
          "base_uri": "https://localhost:8080/",
          "height": 81
        },
        "id": "KcOqkEAypngv",
        "outputId": "911f73f7-0b98-4d0c-99a9-4205e4058fb6"
      },
      "source": [
        "# Add Model Details to the benchmark list\n",
        "Benchmark  = Benchmark.append(pd.Series(['CNN GRU', 'Conv1D, 2*GRU, 2*Dense', '32, 2*64, 30 10', 'SGD(lr=1e-5, momentum=0.9)', mae[-1], loss[-1]], index = columns), ignore_index=True)\n",
        "Benchmark"
      ],
      "execution_count": null,
      "outputs": [
        {
          "output_type": "execute_result",
          "data": {
            "text/html": [
              "<div>\n",
              "<style scoped>\n",
              "    .dataframe tbody tr th:only-of-type {\n",
              "        vertical-align: middle;\n",
              "    }\n",
              "\n",
              "    .dataframe tbody tr th {\n",
              "        vertical-align: top;\n",
              "    }\n",
              "\n",
              "    .dataframe thead th {\n",
              "        text-align: right;\n",
              "    }\n",
              "</style>\n",
              "<table border=\"1\" class=\"dataframe\">\n",
              "  <thead>\n",
              "    <tr style=\"text-align: right;\">\n",
              "      <th></th>\n",
              "      <th>Model</th>\n",
              "      <th>Layers</th>\n",
              "      <th>Units_per_Layer</th>\n",
              "      <th>Optimizer</th>\n",
              "      <th>MAE Metric</th>\n",
              "      <th>Huber Loss</th>\n",
              "    </tr>\n",
              "  </thead>\n",
              "  <tbody>\n",
              "    <tr>\n",
              "      <th>0</th>\n",
              "      <td>CNN GRU</td>\n",
              "      <td>Conv1D, 2*GRU, 2*Dense</td>\n",
              "      <td>32, 2*64, 30 10</td>\n",
              "      <td>SGD(lr=1e-5, momentum=0.9)</td>\n",
              "      <td>16.834759</td>\n",
              "      <td>16.345789</td>\n",
              "    </tr>\n",
              "  </tbody>\n",
              "</table>\n",
              "</div>"
            ],
            "text/plain": [
              "     Model                  Layers  ... MAE Metric Huber Loss\n",
              "0  CNN GRU  Conv1D, 2*GRU, 2*Dense  ...  16.834759  16.345789\n",
              "\n",
              "[1 rows x 6 columns]"
            ]
          },
          "metadata": {},
          "execution_count": 11
        }
      ]
    },
    {
      "cell_type": "markdown",
      "metadata": {
        "id": "MHueohcKpNWR"
      },
      "source": [
        "# CNN BIGRU Model"
      ]
    },
    {
      "cell_type": "code",
      "metadata": {
        "id": "h-2z4QYCpdZk"
      },
      "source": [
        "tf.keras.backend.clear_session()\n",
        "tf.random.set_seed(51)\n",
        "np.random.seed(51)\n",
        "\n",
        "tf.keras.backend.clear_session()\n",
        "dataset = windowed_dataset(x_train, window_size, batch_size, shuffle_buffer_size)\n",
        "\n",
        "# Windowed CNN BLSTM\n",
        "model = tf.keras.models.Sequential([\n",
        "  tf.keras.layers.Lambda(lambda x: tf.expand_dims(x, axis=-1),\n",
        "                      input_shape=[None]),    \n",
        "  \n",
        "  tf.keras.layers.Conv1D(filters=32, kernel_size=5,\n",
        "                      strides=1, padding=\"causal\",\n",
        "                      activation=\"relu\",\n",
        "                      input_shape=[None, 1]),\n",
        "\n",
        "  tf.keras.layers.Bidirectional(tf.keras.layers.GRU(32, return_sequences=True)),\n",
        "  tf.keras.layers.Bidirectional(tf.keras.layers.GRU(32, return_sequences=True)),\n",
        "\n",
        "  tf.keras.layers.LSTM(64, return_sequences=True),\n",
        "  tf.keras.layers.LSTM(64, return_sequences=True),\n",
        "  \n",
        "  tf.keras.layers.Dense(30, activation=\"relu\"),\n",
        "  tf.keras.layers.Dense(10, activation=\"relu\"),\n",
        "  tf.keras.layers.Dense(1),\n",
        "  tf.keras.layers.Lambda(lambda x: x * 400.0)\n",
        "])\n",
        "\n",
        "optimizer = tf.keras.optimizers.SGD(lr=1e-5, momentum=0.9)\n",
        "model.compile(loss=tf.keras.losses.Huber(), \n",
        "              optimizer=optimizer,\n",
        "              metrics=[\"mae\"])\n",
        "history_cnn_bigru = model.fit(dataset, epochs=150)"
      ],
      "execution_count": null,
      "outputs": []
    },
    {
      "cell_type": "code",
      "metadata": {
        "colab": {
          "base_uri": "https://localhost:8080/"
        },
        "id": "kkYuEfp_tN85",
        "outputId": "fa6a93b9-b88d-4121-e6ef-bd7825cc1587"
      },
      "source": [
        "model.summary()"
      ],
      "execution_count": null,
      "outputs": [
        {
          "output_type": "stream",
          "name": "stdout",
          "text": [
            "Model: \"sequential\"\n",
            "_________________________________________________________________\n",
            "Layer (type)                 Output Shape              Param #   \n",
            "=================================================================\n",
            "lambda (Lambda)              (None, None, 1)           0         \n",
            "_________________________________________________________________\n",
            "conv1d (Conv1D)              (None, None, 32)          192       \n",
            "_________________________________________________________________\n",
            "bidirectional (Bidirectional (None, None, 64)          12672     \n",
            "_________________________________________________________________\n",
            "bidirectional_1 (Bidirection (None, None, 64)          18816     \n",
            "_________________________________________________________________\n",
            "lstm (LSTM)                  (None, None, 64)          33024     \n",
            "_________________________________________________________________\n",
            "lstm_1 (LSTM)                (None, None, 64)          33024     \n",
            "_________________________________________________________________\n",
            "dense (Dense)                (None, None, 30)          1950      \n",
            "_________________________________________________________________\n",
            "dense_1 (Dense)              (None, None, 10)          310       \n",
            "_________________________________________________________________\n",
            "dense_2 (Dense)              (None, None, 1)           11        \n",
            "_________________________________________________________________\n",
            "lambda_1 (Lambda)            (None, None, 1)           0         \n",
            "=================================================================\n",
            "Total params: 99,999\n",
            "Trainable params: 99,999\n",
            "Non-trainable params: 0\n",
            "_________________________________________________________________\n"
          ]
        }
      ]
    },
    {
      "cell_type": "markdown",
      "metadata": {
        "id": "KghQpY_Kpb5O"
      },
      "source": [
        "# CNN BIGRU MAE & Loss"
      ]
    },
    {
      "cell_type": "code",
      "metadata": {
        "colab": {
          "base_uri": "https://localhost:8080/",
          "height": 441
        },
        "id": "rS8RoI9OpWQN",
        "outputId": "08cf342a-d911-4794-87cb-0f691aba89cb"
      },
      "source": [
        "import matplotlib.image  as mpimg\n",
        "import matplotlib.pyplot as plt\n",
        "\n",
        "#-----------------------------------------------------------\n",
        "# Retrieve a list of list results on training and test data\n",
        "# sets for each training epoch\n",
        "#-----------------------------------------------------------\n",
        "mae=history_cnn_bigru.history['mae']\n",
        "loss=history_cnn_bigru.history['loss']\n",
        "\n",
        "epochs=range(len(loss)) # Get number of epochs\n",
        "\n",
        "#------------------------------------------------\n",
        "# Plot Zoomed MAE and Loss\n",
        "#------------------------------------------------\n",
        "\n",
        "\n",
        "epochs_zoom = epochs[100:150]\n",
        "mae_zoom = mae[100:150]\n",
        "loss_zoom = loss[100:150]\n",
        "\n",
        "\n",
        "plt.figure(figsize=(10, 6))\n",
        "\n",
        "plt.plot(epochs_zoom, mae_zoom, 'r')\n",
        "plt.plot(epochs_zoom, loss_zoom, 'b')\n",
        "plt.title('CNN BIGRU MAE and Loss')\n",
        "plt.xlabel(\"Epochs\")\n",
        "plt.ylabel(\"Accuracy\")\n",
        "plt.legend([\"MAE\", \"Loss\"])\n",
        "\n",
        "plt.figure()"
      ],
      "execution_count": null,
      "outputs": [
        {
          "output_type": "execute_result",
          "data": {
            "text/plain": [
              "<Figure size 432x288 with 0 Axes>"
            ]
          },
          "metadata": {},
          "execution_count": 13
        },
        {
          "output_type": "display_data",
          "data": {
            "image/png": "[encoded data removed]",
            "text/plain": [
              "<Figure size 720x432 with 1 Axes>"
            ]
          },
          "metadata": {
            "needs_background": "light"
          }
        },
        {
          "output_type": "display_data",
          "data": {
            "text/plain": [
              "<Figure size 432x288 with 0 Axes>"
            ]
          },
          "metadata": {}
        }
      ]
    },
    {
      "cell_type": "code",
      "metadata": {
        "colab": {
          "base_uri": "https://localhost:8080/",
          "height": 112
        },
        "id": "_CXH7RzzqN0N",
        "outputId": "cf2c2ece-1632-45d9-e4c4-1761988ec699"
      },
      "source": [
        "# Add Model Details to the benchmark list\n",
        "Benchmark  = Benchmark.append(pd.Series(['CNN BIGRU', 'Conv1D, 2*BIGRU, 2*BIGRU, 2*Dense', '32, 2*32, 2*64, 30 10', 'SGD(lr=1e-5, momentum=0.9)', mae[-1], loss[-1]], index = columns), ignore_index=True)\n",
        "Benchmark"
      ],
      "execution_count": null,
      "outputs": [
        {
          "output_type": "execute_result",
          "data": {
            "text/html": [
              "<div>\n",
              "<style scoped>\n",
              "    .dataframe tbody tr th:only-of-type {\n",
              "        vertical-align: middle;\n",
              "    }\n",
              "\n",
              "    .dataframe tbody tr th {\n",
              "        vertical-align: top;\n",
              "    }\n",
              "\n",
              "    .dataframe thead th {\n",
              "        text-align: right;\n",
              "    }\n",
              "</style>\n",
              "<table border=\"1\" class=\"dataframe\">\n",
              "  <thead>\n",
              "    <tr style=\"text-align: right;\">\n",
              "      <th></th>\n",
              "      <th>Model</th>\n",
              "      <th>Layers</th>\n",
              "      <th>Units_per_Layer</th>\n",
              "      <th>Optimizer</th>\n",
              "      <th>MAE Metric</th>\n",
              "      <th>Huber Loss</th>\n",
              "    </tr>\n",
              "  </thead>\n",
              "  <tbody>\n",
              "    <tr>\n",
              "      <th>0</th>\n",
              "      <td>CNN GRU</td>\n",
              "      <td>Conv1D, 2*GRU, 2*Dense</td>\n",
              "      <td>32, 2*64, 30 10</td>\n",
              "      <td>SGD(lr=1e-5, momentum=0.9)</td>\n",
              "      <td>16.834759</td>\n",
              "      <td>16.345789</td>\n",
              "    </tr>\n",
              "    <tr>\n",
              "      <th>1</th>\n",
              "      <td>CNN BIGRU</td>\n",
              "      <td>Conv1D, 2*BIGRU, 2*BIGRU, 2*Dense</td>\n",
              "      <td>32, 2*32, 2*64, 30 10</td>\n",
              "      <td>SGD(lr=1e-5, momentum=0.9)</td>\n",
              "      <td>14.013884</td>\n",
              "      <td>13.525953</td>\n",
              "    </tr>\n",
              "  </tbody>\n",
              "</table>\n",
              "</div>"
            ],
            "text/plain": [
              "       Model                             Layers  ... MAE Metric Huber Loss\n",
              "0    CNN GRU             Conv1D, 2*GRU, 2*Dense  ...  16.834759  16.345789\n",
              "1  CNN BIGRU  Conv1D, 2*BIGRU, 2*BIGRU, 2*Dense  ...  14.013884  13.525953\n",
              "\n",
              "[2 rows x 6 columns]"
            ]
          },
          "metadata": {},
          "execution_count": 14
        }
      ]
    },
    {
      "cell_type": "markdown",
      "metadata": {
        "id": "I05TlOfWmKs3"
      },
      "source": [
        "# Benchmark"
      ]
    },
    {
      "cell_type": "code",
      "metadata": {
        "colab": {
          "base_uri": "https://localhost:8080/",
          "height": 112
        },
        "id": "LTOMauvhmJ91",
        "outputId": "5cf5ec78-bac6-496e-ccaa-517c7233cbc1"
      },
      "source": [
        "Benchmark"
      ],
      "execution_count": null,
      "outputs": [
        {
          "output_type": "execute_result",
          "data": {
            "text/html": [
              "<div>\n",
              "<style scoped>\n",
              "    .dataframe tbody tr th:only-of-type {\n",
              "        vertical-align: middle;\n",
              "    }\n",
              "\n",
              "    .dataframe tbody tr th {\n",
              "        vertical-align: top;\n",
              "    }\n",
              "\n",
              "    .dataframe thead th {\n",
              "        text-align: right;\n",
              "    }\n",
              "</style>\n",
              "<table border=\"1\" class=\"dataframe\">\n",
              "  <thead>\n",
              "    <tr style=\"text-align: right;\">\n",
              "      <th></th>\n",
              "      <th>Model</th>\n",
              "      <th>Layers</th>\n",
              "      <th>Units_per_Layer</th>\n",
              "      <th>Optimizer</th>\n",
              "      <th>MAE Metric</th>\n",
              "      <th>Huber Loss</th>\n",
              "    </tr>\n",
              "  </thead>\n",
              "  <tbody>\n",
              "    <tr>\n",
              "      <th>0</th>\n",
              "      <td>CNN GRU</td>\n",
              "      <td>Conv1D, 2*GRU, 2*Dense</td>\n",
              "      <td>32, 2*64, 30 10</td>\n",
              "      <td>SGD(lr=1e-5, momentum=0.9)</td>\n",
              "      <td>16.834759</td>\n",
              "      <td>16.345789</td>\n",
              "    </tr>\n",
              "    <tr>\n",
              "      <th>1</th>\n",
              "      <td>CNN BIGRU</td>\n",
              "      <td>Conv1D, 2*BIGRU, 2*BIGRU, 2*Dense</td>\n",
              "      <td>32, 2*32, 2*64, 30 10</td>\n",
              "      <td>SGD(lr=1e-5, momentum=0.9)</td>\n",
              "      <td>14.013884</td>\n",
              "      <td>13.525953</td>\n",
              "    </tr>\n",
              "  </tbody>\n",
              "</table>\n",
              "</div>"
            ],
            "text/plain": [
              "       Model                             Layers  ... MAE Metric Huber Loss\n",
              "0    CNN GRU             Conv1D, 2*GRU, 2*Dense  ...  16.834759  16.345789\n",
              "1  CNN BIGRU  Conv1D, 2*BIGRU, 2*BIGRU, 2*Dense  ...  14.013884  13.525953\n",
              "\n",
              "[2 rows x 6 columns]"
            ]
          },
          "metadata": {},
          "execution_count": 15
        }
      ]
    },
    {
      "cell_type": "code",
      "metadata": {
        "colab": {
          "base_uri": "https://localhost:8080/"
        },
        "id": "kP93dHs0pwhW",
        "outputId": "c48f60aa-31c2-4fcd-e0ee-791cd0061584"
      },
      "source": [
        "print('Best Model MAE  wise:\\n', Benchmark[Benchmark['MAE Metric'] == Benchmark['MAE Metric'].min()])   \n",
        "print('Best Model Loss wise:\\n', Benchmark[Benchmark['Huber Loss'] == Benchmark['Huber Loss'].min()])  "
      ],
      "execution_count": null,
      "outputs": [
        {
          "output_type": "stream",
          "name": "stdout",
          "text": [
            "Best Model MAE  wise:\n",
            "        Model                             Layers  ... MAE Metric Huber Loss\n",
            "1  CNN BIGRU  Conv1D, 2*BIGRU, 2*BIGRU, 2*Dense  ...  14.013884  13.525953\n",
            "\n",
            "[1 rows x 6 columns]\n",
            "Best Model Loss wise:\n",
            "        Model                             Layers  ... MAE Metric Huber Loss\n",
            "1  CNN BIGRU  Conv1D, 2*BIGRU, 2*BIGRU, 2*Dense  ...  14.013884  13.525953\n",
            "\n",
            "[1 rows x 6 columns]\n"
          ]
        }
      ]
    }
  ]
}